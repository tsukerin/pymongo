{
 "cells": [
  {
   "cell_type": "code",
   "execution_count": 3,
   "metadata": {},
   "outputs": [],
   "source": [
    "import pymongo\n",
    "\n",
    "client = pymongo.MongoClient(\"mongodb://localhost:27017\")\n",
    "db = client[\"mai_example\"]\n",
    "coll = db['students']"
   ]
  },
  {
   "cell_type": "markdown",
   "metadata": {},
   "source": [
    "1. <b>Create</b>"
   ]
  },
  {
   "cell_type": "code",
   "execution_count": 9,
   "metadata": {},
   "outputs": [
    {
     "data": {
      "text/plain": [
       "InsertManyResult([ObjectId('6611385545c2b68f99fea678'), ObjectId('6611385545c2b68f99fea679')], acknowledged=True)"
      ]
     },
     "execution_count": 9,
     "metadata": {},
     "output_type": "execute_result"
    }
   ],
   "source": [
    "# Вставка одного\n",
    "coll.insert_one(\n",
    "    {\n",
    "        'name': 'Илья Попов',\n",
    "        'faculty': 'Управление инновациями'\n",
    "    }\n",
    ")\n",
    "\n",
    "# Вставка нескольких\n",
    "coll.insert_many([\n",
    "    {\n",
    "        'name': 'Роман Иванов',\n",
    "        'faculty': 'Управление инновациями'\n",
    "    },\n",
    "    {\n",
    "        'name': 'Иван Иванов',\n",
    "        'faculty': 'Управление инновациями'\n",
    "    }\n",
    "])"
   ]
  },
  {
   "cell_type": "markdown",
   "metadata": {},
   "source": [
    "2. <b>Read"
   ]
  },
  {
   "cell_type": "code",
   "execution_count": 20,
   "metadata": {},
   "outputs": [
    {
     "name": "stdout",
     "output_type": "stream",
     "text": [
      "Чтение одного: \n",
      " {'_id': ObjectId('6611374f45c2b68f99fea670'), 'name': 'Илья Попов', 'faculty': 'Факультет прикладной информатики'}\n",
      "\n",
      "Чтение нескольких:\n",
      "{'_id': ObjectId('6610816185ae008550642c1a'), 'id': 1, 'name': 'Иванов Иван', 'faculty': 'Факультет информационных технологий'}\n",
      "{'_id': ObjectId('6610816185ae008550642c1b'), 'id': 2, 'name': 'Петров Петр', 'faculty': 'Факультет экономики и бизнеса'}\n",
      "{'_id': ObjectId('6610816185ae008550642c1c'), 'id': 3, 'name': 'Сидорова Елена', 'faculty': 'Факультет медицины'}\n",
      "{'_id': ObjectId('6610816185ae008550642c1d'), 'id': 4, 'name': 'Смирнова Анна', 'faculty': 'Факультет искусств'}\n",
      "{'_id': ObjectId('6610816185ae008550642c1e'), 'id': 5, 'name': 'Кузнецов Дмитрий', 'faculty': 'Факультет права'}\n",
      "{'_id': ObjectId('6610816185ae008550642c1f'), 'id': 6, 'name': 'Васильева Мария', 'faculty': 'Факультет лингвистики'}\n",
      "{'_id': ObjectId('6610816185ae008550642c20'), 'id': 7, 'name': 'Морозов Алексей', 'faculty': 'Факультет физики и математики'}\n",
      "{'_id': ObjectId('6610816185ae008550642c21'), 'id': 8, 'name': 'Новикова Анастасия', 'faculty': 'Факультет психологии'}\n",
      "{'_id': ObjectId('6610816185ae008550642c22'), 'id': 9, 'name': 'Александров Игорь', 'faculty': 'Факультет инженерии'}\n",
      "{'_id': ObjectId('6610816185ae008550642c23'), 'id': 10, 'name': 'Козлова Ольга', 'faculty': 'Факультет биологии'}\n",
      "{'_id': ObjectId('6610816185ae008550642c24'), 'id': 11, 'name': 'Лебедев Сергей', 'faculty': 'Факультет химии'}\n",
      "{'_id': ObjectId('6610816185ae008550642c25'), 'id': 12, 'name': 'Соколова Татьяна', 'faculty': 'Факультет географии'}\n",
      "{'_id': ObjectId('6610816185ae008550642c26'), 'id': 13, 'name': 'Козлов Иван', 'faculty': 'Факультет архитектуры и дизайна'}\n",
      "{'_id': ObjectId('6610816185ae008550642c27'), 'id': 14, 'name': 'Никитин Артем', 'faculty': 'Факультет иностранных языков'}\n",
      "{'_id': ObjectId('6610816185ae008550642c28'), 'id': 15, 'name': 'Захарова Екатерина', 'faculty': 'Факультет журналистики'}\n",
      "{'_id': ObjectId('6610816185ae008550642c29'), 'id': 16, 'name': 'Игнатьева Алёна', 'faculty': 'Факультет политологии'}\n",
      "{'_id': ObjectId('6610816185ae008550642c2a'), 'id': 17, 'name': 'Куликов Денис', 'faculty': 'Факультет социологии'}\n",
      "{'_id': ObjectId('6610816185ae008550642c2b'), 'id': 18, 'name': 'Федоров Владимир', 'faculty': 'Факультет истории'}\n",
      "{'_id': ObjectId('6610816185ae008550642c2c'), 'id': 19, 'name': 'Медведева Анастасия', 'faculty': 'Факультет антропологии'}\n",
      "{'_id': ObjectId('6610816185ae008550642c2d'), 'id': 20, 'name': 'Поляков Александр', 'faculty': 'Факультет культурологии'}\n",
      "{'_id': ObjectId('6611374f45c2b68f99fea670'), 'name': 'Илья Попов', 'faculty': 'Факультет прикладной информатики'}\n",
      "{'_id': ObjectId('661137c845c2b68f99fea671'), 'name': 'Илья Попов', 'faculty': 'Факультет управления инновациями'}\n",
      "{'_id': ObjectId('661137d745c2b68f99fea672'), 'name': 'Илья Попов', 'faculty': 'Факультет управления инновациями'}\n",
      "{'_id': ObjectId('6611383145c2b68f99fea673'), 'name': 'Илья Попов', 'faculty': 'Факультет управления инновациями'}\n",
      "{'_id': ObjectId('6611384745c2b68f99fea674'), 'name': 'Илья Попов', 'faculty': 'Факультет управления инновациями'}\n",
      "{'_id': ObjectId('6611384745c2b68f99fea675'), 'name': 'Илья Попов', 'faculty': 'Факультет управления инновациями'}\n",
      "{'_id': ObjectId('6611384745c2b68f99fea676'), 'name': 'Иван Иванов', 'faculty': 'Факультет управления инновациями'}\n",
      "{'_id': ObjectId('6611385545c2b68f99fea677'), 'name': 'Илья Попов', 'faculty': 'Факультет управления инновациями'}\n",
      "{'_id': ObjectId('6611385545c2b68f99fea678'), 'name': 'Роман Иванов', 'faculty': 'Факультет управления инновациями'}\n",
      "{'_id': ObjectId('6611385545c2b68f99fea679'), 'name': 'Иван Иванов', 'faculty': 'Факультет управления инновациями'}\n"
     ]
    }
   ],
   "source": [
    "print('Чтение одного: \\n', coll.find_one({'name': 'Илья Попов'}))\n",
    "\n",
    "print('\\nЧтение нескольких:')\n",
    "for i in coll.find():\n",
    "    print(i) "
   ]
  },
  {
   "cell_type": "markdown",
   "metadata": {},
   "source": [
    "3. <b>Update"
   ]
  },
  {
   "cell_type": "code",
   "execution_count": 21,
   "metadata": {},
   "outputs": [
    {
     "data": {
      "text/plain": [
       "UpdateResult({'n': 1, 'nModified': 1, 'ok': 1.0, 'updatedExisting': True}, acknowledged=True)"
      ]
     },
     "execution_count": 21,
     "metadata": {},
     "output_type": "execute_result"
    }
   ],
   "source": [
    "coll.update_one({'name': 'Илья Попов'}, {\"$set\": {'faculty': 'Прикладная информатика'}})"
   ]
  },
  {
   "cell_type": "markdown",
   "metadata": {},
   "source": [
    "4. <b>Remove"
   ]
  },
  {
   "cell_type": "code",
   "execution_count": 22,
   "metadata": {},
   "outputs": [
    {
     "data": {
      "text/plain": [
       "DeleteResult({'n': 29, 'ok': 1.0}, acknowledged=True)"
      ]
     },
     "execution_count": 22,
     "metadata": {},
     "output_type": "execute_result"
    }
   ],
   "source": [
    "# Удаление одного\n",
    "coll.delete_one({\"name\": \"Илья Попов\"})\n",
    "\n",
    "# Удаление нескольких\n",
    "coll.delete_many({\"faculty\": {\"$gte\": 'Управление инновациями'}})"
   ]
  }
 ],
 "metadata": {
  "kernelspec": {
   "display_name": "Python 3",
   "language": "python",
   "name": "python3"
  },
  "language_info": {
   "codemirror_mode": {
    "name": "ipython",
    "version": 3
   },
   "file_extension": ".py",
   "mimetype": "text/x-python",
   "name": "python",
   "nbconvert_exporter": "python",
   "pygments_lexer": "ipython3",
   "version": "3.12.1"
  }
 },
 "nbformat": 4,
 "nbformat_minor": 2
}
